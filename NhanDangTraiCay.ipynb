{
  "nbformat": 4,
  "nbformat_minor": 0,
  "metadata": {
    "colab": {
      "name": "NhanDangTraiCay.ipynb",
      "provenance": [],
      "collapsed_sections": []
    },
    "kernelspec": {
      "name": "python3",
      "display_name": "Python 3"
    },
    "language_info": {
      "name": "python"
    },
    "accelerator": "GPU"
  },
  "cells": [
    {
      "cell_type": "code",
      "execution_count": null,
      "metadata": {
        "colab": {
          "base_uri": "https://localhost:8080/"
        },
        "id": "ILxoT8BTPlnG",
        "outputId": "a6396587-c1d4-4bc4-d7ef-61a5ed51451b"
      },
      "outputs": [
        {
          "output_type": "stream",
          "name": "stdout",
          "text": [
            "(292, 100, 100, 3) (292,)\n"
          ]
        }
      ],
      "source": [
        "#Load dữ liệu từ drive vào các biến X_train, y_train\n",
        "from os import listdir\n",
        "from numpy import asarray,save\n",
        "from keras.preprocessing.image import load_img\n",
        "from keras.preprocessing.image import img_to_array\n",
        "folder = '/content/drive/MyDrive/AI/10TraiCay/'\n",
        "photos, labels = list(),list()\n",
        "for file in listdir(folder):\n",
        "  output = 0.\n",
        "  if file.startswith('Chuoi'):\n",
        "    output = 1.0\n",
        "  if file.startswith('VietQuat'):\n",
        "    output = 2.0\n",
        "  if file.startswith('DuaLuoi'):\n",
        "    output = 3.0\n",
        "  if file.startswith('Cherri'):\n",
        "    output = 4.0\n",
        "  if file.startswith('Kiwi'):\n",
        "    output = 5.0\n",
        "  if file.startswith('Chanh'):\n",
        "    output = 6.0\n",
        "  if file.startswith('CaChua'):\n",
        "    output = 7.0\n",
        "  if file.startswith('Luu'):\n",
        "    output = 8.0\n",
        "  if file.startswith('Oi'):\n",
        "    output = 9.0\n",
        "  photo = load_img(folder+file,target_size=(100,100))\n",
        "  photo = img_to_array(photo)\n",
        "  photos.append(photo)\n",
        "  labels.append(output)\n",
        "photos = asarray(photos)\n",
        "labels= asarray(labels)\n",
        "print(photos.shape,labels.shape)\n",
        "save('X_train.npy',photos)\n",
        "save('y_train.npy',labels)"
      ]
    },
    {
      "cell_type": "code",
      "source": [
        "folder = '/content/drive/MyDrive/AI/Test/'\n",
        "photos1, labels1 = list(),list()\n",
        "for file in listdir(folder):\n",
        "  output = 0.\n",
        "  if file.startswith('Chuoi'):\n",
        "    output = 1.0\n",
        "  if file.startswith('VietQuat'):\n",
        "    output = 2.0\n",
        "  if file.startswith('DuaLuoi'):\n",
        "    output = 3.0\n",
        "  if file.startswith('Cherri'):\n",
        "    output = 4.0\n",
        "  if file.startswith('Kiwi'):\n",
        "    output = 5.0\n",
        "  if file.startswith('Chanh'):\n",
        "    output = 6.0\n",
        "  if file.startswith('CaChua'):\n",
        "    output = 7.0\n",
        "  if file.startswith('Luu'):\n",
        "    output = 8.0\n",
        "  if file.startswith('Oi'):\n",
        "    output = 9.0\n",
        "  photo = load_img(folder+file,target_size=(100,100))\n",
        "  photo = img_to_array(photo)\n",
        "  photos1.append(photo)\n",
        "  labels1.append(output)\n",
        "photos1 = asarray(photos1)\n",
        "labels1= asarray(labels1)\n",
        "print(photos1.shape,labels1.shape)\n",
        "save('X_train.npy',photos1)\n",
        "save('y_train.npy',labels1)"
      ],
      "metadata": {
        "colab": {
          "base_uri": "https://localhost:8080/"
        },
        "id": "vH9mkeZARVbY",
        "outputId": "12407ae2-8262-414d-afc4-7bf343737a2e"
      },
      "execution_count": null,
      "outputs": [
        {
          "output_type": "stream",
          "name": "stdout",
          "text": [
            "(50, 100, 100, 3) (50,)\n"
          ]
        }
      ]
    },
    {
      "cell_type": "code",
      "source": [
        "#Chuyển kiểu dữ liệu\n",
        "photos = photos.astype('float32')\n",
        "photos1 = photos1.astype('float32')\n",
        "photos/=255\n",
        "photos1/=255\n",
        "from keras.utils import np_utils\n",
        "labels=np_utils.to_categorical(labels,10)\n",
        "labels1=np_utils.to_categorical(labels1,10)"
      ],
      "metadata": {
        "id": "r-TEhvdbR8-f"
      },
      "execution_count": null,
      "outputs": []
    },
    {
      "cell_type": "code",
      "source": [
        "from keras.applications.vgg16 import VGG16\n",
        "from keras.models import Model\n",
        "from keras.layers import Flatten\n",
        "from tensorflow.keras.optimizers import SGD\n",
        "from keras.layers import Dense, Activation, BatchNormalization, Dropout, LSTM\n",
        "model = VGG16(include_top=False,input_shape=(100,100,3))\n",
        "for layers in model.layers:\n",
        "  layers.trainable = False\n",
        "flat1 = Flatten()(model.layers[-1].output)\n",
        "class1 = Dense(128,activation='relu',kernel_initializer='he_uniform')(flat1)\n",
        "output = Dense(10,activation='softmax')(class1)\n",
        "model = Model(inputs=model.inputs,outputs=output)\n",
        "opt = SGD(lr = 0.01, momentum = 0.9)\n",
        "model.compile(optimizer=opt, loss = 'categorical_crossentropy',metrics=['accuracy'])\n",
        "history = model.fit(photos,labels,epochs=100, batch_size=32, validation_data=(photos1,labels1),verbose=1)"
      ],
      "metadata": {
        "colab": {
          "base_uri": "https://localhost:8080/"
        },
        "id": "irZvIb9vSBu_",
        "outputId": "e4e24e42-aa91-4473-abf7-2a564c5ac1cc"
      },
      "execution_count": null,
      "outputs": [
        {
          "output_type": "stream",
          "name": "stdout",
          "text": [
            "Downloading data from https://storage.googleapis.com/tensorflow/keras-applications/vgg16/vgg16_weights_tf_dim_ordering_tf_kernels_notop.h5\n",
            "58892288/58889256 [==============================] - 0s 0us/step\n",
            "58900480/58889256 [==============================] - 0s 0us/step\n",
            "Epoch 1/100\n"
          ]
        },
        {
          "output_type": "stream",
          "name": "stderr",
          "text": [
            "/usr/local/lib/python3.7/dist-packages/keras/optimizer_v2/gradient_descent.py:102: UserWarning: The `lr` argument is deprecated, use `learning_rate` instead.\n",
            "  super(SGD, self).__init__(name, **kwargs)\n"
          ]
        },
        {
          "output_type": "stream",
          "name": "stdout",
          "text": [
            "10/10 [==============================] - 12s 166ms/step - loss: 2.2943 - accuracy: 0.2123 - val_loss: 1.9412 - val_accuracy: 0.2400\n",
            "Epoch 2/100\n",
            "10/10 [==============================] - 0s 42ms/step - loss: 1.7153 - accuracy: 0.4075 - val_loss: 2.3589 - val_accuracy: 0.3000\n",
            "Epoch 3/100\n",
            "10/10 [==============================] - 0s 41ms/step - loss: 1.4071 - accuracy: 0.5342 - val_loss: 1.3939 - val_accuracy: 0.4800\n",
            "Epoch 4/100\n",
            "10/10 [==============================] - 0s 42ms/step - loss: 1.0432 - accuracy: 0.6267 - val_loss: 1.3309 - val_accuracy: 0.5600\n",
            "Epoch 5/100\n",
            "10/10 [==============================] - 0s 42ms/step - loss: 0.8802 - accuracy: 0.6747 - val_loss: 1.6977 - val_accuracy: 0.4200\n",
            "Epoch 6/100\n",
            "10/10 [==============================] - 0s 42ms/step - loss: 1.0093 - accuracy: 0.6610 - val_loss: 1.8448 - val_accuracy: 0.4400\n",
            "Epoch 7/100\n",
            "10/10 [==============================] - 0s 43ms/step - loss: 0.8101 - accuracy: 0.7260 - val_loss: 1.2716 - val_accuracy: 0.5800\n",
            "Epoch 8/100\n",
            "10/10 [==============================] - 0s 42ms/step - loss: 0.6305 - accuracy: 0.7911 - val_loss: 1.2150 - val_accuracy: 0.6200\n",
            "Epoch 9/100\n",
            "10/10 [==============================] - 0s 42ms/step - loss: 0.5672 - accuracy: 0.7842 - val_loss: 0.8811 - val_accuracy: 0.6800\n",
            "Epoch 10/100\n",
            "10/10 [==============================] - 0s 43ms/step - loss: 0.3753 - accuracy: 0.8836 - val_loss: 0.9443 - val_accuracy: 0.6400\n",
            "Epoch 11/100\n",
            "10/10 [==============================] - 0s 42ms/step - loss: 0.3171 - accuracy: 0.9007 - val_loss: 0.7211 - val_accuracy: 0.7200\n",
            "Epoch 12/100\n",
            "10/10 [==============================] - 0s 42ms/step - loss: 0.2327 - accuracy: 0.9384 - val_loss: 0.7476 - val_accuracy: 0.6800\n",
            "Epoch 13/100\n",
            "10/10 [==============================] - 0s 42ms/step - loss: 0.1933 - accuracy: 0.9589 - val_loss: 0.6866 - val_accuracy: 0.7200\n",
            "Epoch 14/100\n",
            "10/10 [==============================] - 0s 43ms/step - loss: 0.1715 - accuracy: 0.9486 - val_loss: 0.6604 - val_accuracy: 0.7800\n",
            "Epoch 15/100\n",
            "10/10 [==============================] - 0s 42ms/step - loss: 0.1856 - accuracy: 0.9315 - val_loss: 0.6861 - val_accuracy: 0.7200\n",
            "Epoch 16/100\n",
            "10/10 [==============================] - 0s 42ms/step - loss: 0.1671 - accuracy: 0.9589 - val_loss: 0.6919 - val_accuracy: 0.7600\n",
            "Epoch 17/100\n",
            "10/10 [==============================] - 0s 42ms/step - loss: 0.1298 - accuracy: 0.9658 - val_loss: 0.8418 - val_accuracy: 0.7200\n",
            "Epoch 18/100\n",
            "10/10 [==============================] - 0s 42ms/step - loss: 0.0856 - accuracy: 0.9897 - val_loss: 0.6003 - val_accuracy: 0.7800\n",
            "Epoch 19/100\n",
            "10/10 [==============================] - 0s 43ms/step - loss: 0.0468 - accuracy: 0.9932 - val_loss: 0.5928 - val_accuracy: 0.7800\n",
            "Epoch 20/100\n",
            "10/10 [==============================] - 0s 42ms/step - loss: 0.0353 - accuracy: 1.0000 - val_loss: 0.6992 - val_accuracy: 0.8000\n",
            "Epoch 21/100\n",
            "10/10 [==============================] - 0s 43ms/step - loss: 0.0348 - accuracy: 1.0000 - val_loss: 0.6273 - val_accuracy: 0.7800\n",
            "Epoch 22/100\n",
            "10/10 [==============================] - 0s 43ms/step - loss: 0.0361 - accuracy: 1.0000 - val_loss: 0.6093 - val_accuracy: 0.7800\n",
            "Epoch 23/100\n",
            "10/10 [==============================] - 0s 43ms/step - loss: 0.0279 - accuracy: 0.9966 - val_loss: 0.7396 - val_accuracy: 0.7200\n",
            "Epoch 24/100\n",
            "10/10 [==============================] - 0s 43ms/step - loss: 0.0301 - accuracy: 0.9966 - val_loss: 0.7250 - val_accuracy: 0.7800\n",
            "Epoch 25/100\n",
            "10/10 [==============================] - 0s 43ms/step - loss: 0.0228 - accuracy: 1.0000 - val_loss: 0.6432 - val_accuracy: 0.7600\n",
            "Epoch 26/100\n",
            "10/10 [==============================] - 0s 42ms/step - loss: 0.0181 - accuracy: 1.0000 - val_loss: 0.7035 - val_accuracy: 0.7600\n",
            "Epoch 27/100\n",
            "10/10 [==============================] - 0s 43ms/step - loss: 0.0231 - accuracy: 1.0000 - val_loss: 0.5704 - val_accuracy: 0.8200\n",
            "Epoch 28/100\n",
            "10/10 [==============================] - 0s 43ms/step - loss: 0.0306 - accuracy: 0.9897 - val_loss: 1.0326 - val_accuracy: 0.7200\n",
            "Epoch 29/100\n",
            "10/10 [==============================] - 0s 42ms/step - loss: 0.0345 - accuracy: 0.9966 - val_loss: 0.5764 - val_accuracy: 0.8000\n",
            "Epoch 30/100\n",
            "10/10 [==============================] - 0s 43ms/step - loss: 0.0222 - accuracy: 1.0000 - val_loss: 0.7788 - val_accuracy: 0.7200\n",
            "Epoch 31/100\n",
            "10/10 [==============================] - 0s 42ms/step - loss: 0.0130 - accuracy: 1.0000 - val_loss: 0.5995 - val_accuracy: 0.7800\n",
            "Epoch 32/100\n",
            "10/10 [==============================] - 0s 42ms/step - loss: 0.0103 - accuracy: 1.0000 - val_loss: 0.6836 - val_accuracy: 0.7400\n",
            "Epoch 33/100\n",
            "10/10 [==============================] - 0s 42ms/step - loss: 0.0085 - accuracy: 1.0000 - val_loss: 0.6522 - val_accuracy: 0.7800\n",
            "Epoch 34/100\n",
            "10/10 [==============================] - 0s 42ms/step - loss: 0.0077 - accuracy: 1.0000 - val_loss: 0.6280 - val_accuracy: 0.7800\n",
            "Epoch 35/100\n",
            "10/10 [==============================] - 0s 43ms/step - loss: 0.0074 - accuracy: 1.0000 - val_loss: 0.6949 - val_accuracy: 0.8000\n",
            "Epoch 36/100\n",
            "10/10 [==============================] - 0s 43ms/step - loss: 0.0072 - accuracy: 1.0000 - val_loss: 0.6750 - val_accuracy: 0.7600\n",
            "Epoch 37/100\n",
            "10/10 [==============================] - 0s 42ms/step - loss: 0.0070 - accuracy: 1.0000 - val_loss: 0.6347 - val_accuracy: 0.7800\n",
            "Epoch 38/100\n",
            "10/10 [==============================] - 0s 43ms/step - loss: 0.0064 - accuracy: 1.0000 - val_loss: 0.6551 - val_accuracy: 0.7800\n",
            "Epoch 39/100\n",
            "10/10 [==============================] - 0s 43ms/step - loss: 0.0060 - accuracy: 1.0000 - val_loss: 0.6777 - val_accuracy: 0.8000\n",
            "Epoch 40/100\n",
            "10/10 [==============================] - 0s 43ms/step - loss: 0.0064 - accuracy: 1.0000 - val_loss: 0.6866 - val_accuracy: 0.8000\n",
            "Epoch 41/100\n",
            "10/10 [==============================] - 0s 43ms/step - loss: 0.0057 - accuracy: 1.0000 - val_loss: 0.6545 - val_accuracy: 0.7800\n",
            "Epoch 42/100\n",
            "10/10 [==============================] - 0s 42ms/step - loss: 0.0055 - accuracy: 1.0000 - val_loss: 0.6463 - val_accuracy: 0.7800\n",
            "Epoch 43/100\n",
            "10/10 [==============================] - 0s 43ms/step - loss: 0.0053 - accuracy: 1.0000 - val_loss: 0.6613 - val_accuracy: 0.8000\n",
            "Epoch 44/100\n",
            "10/10 [==============================] - 0s 43ms/step - loss: 0.0053 - accuracy: 1.0000 - val_loss: 0.6632 - val_accuracy: 0.8000\n",
            "Epoch 45/100\n",
            "10/10 [==============================] - 0s 43ms/step - loss: 0.0051 - accuracy: 1.0000 - val_loss: 0.6456 - val_accuracy: 0.7800\n",
            "Epoch 46/100\n",
            "10/10 [==============================] - 0s 42ms/step - loss: 0.0049 - accuracy: 1.0000 - val_loss: 0.6546 - val_accuracy: 0.8000\n",
            "Epoch 47/100\n",
            "10/10 [==============================] - 0s 43ms/step - loss: 0.0048 - accuracy: 1.0000 - val_loss: 0.6669 - val_accuracy: 0.8000\n",
            "Epoch 48/100\n",
            "10/10 [==============================] - 0s 42ms/step - loss: 0.0047 - accuracy: 1.0000 - val_loss: 0.6603 - val_accuracy: 0.8000\n",
            "Epoch 49/100\n",
            "10/10 [==============================] - 0s 43ms/step - loss: 0.0046 - accuracy: 1.0000 - val_loss: 0.6544 - val_accuracy: 0.8000\n",
            "Epoch 50/100\n",
            "10/10 [==============================] - 0s 43ms/step - loss: 0.0046 - accuracy: 1.0000 - val_loss: 0.6697 - val_accuracy: 0.8000\n",
            "Epoch 51/100\n",
            "10/10 [==============================] - 0s 43ms/step - loss: 0.0045 - accuracy: 1.0000 - val_loss: 0.6822 - val_accuracy: 0.8000\n",
            "Epoch 52/100\n",
            "10/10 [==============================] - 0s 43ms/step - loss: 0.0043 - accuracy: 1.0000 - val_loss: 0.6856 - val_accuracy: 0.7800\n",
            "Epoch 53/100\n",
            "10/10 [==============================] - 0s 42ms/step - loss: 0.0042 - accuracy: 1.0000 - val_loss: 0.6727 - val_accuracy: 0.8000\n",
            "Epoch 54/100\n",
            "10/10 [==============================] - 0s 43ms/step - loss: 0.0042 - accuracy: 1.0000 - val_loss: 0.6541 - val_accuracy: 0.8000\n",
            "Epoch 55/100\n",
            "10/10 [==============================] - 0s 43ms/step - loss: 0.0042 - accuracy: 1.0000 - val_loss: 0.6589 - val_accuracy: 0.8000\n",
            "Epoch 56/100\n",
            "10/10 [==============================] - 0s 43ms/step - loss: 0.0040 - accuracy: 1.0000 - val_loss: 0.6687 - val_accuracy: 0.8000\n",
            "Epoch 57/100\n",
            "10/10 [==============================] - 0s 43ms/step - loss: 0.0039 - accuracy: 1.0000 - val_loss: 0.6656 - val_accuracy: 0.8000\n",
            "Epoch 58/100\n",
            "10/10 [==============================] - 0s 43ms/step - loss: 0.0038 - accuracy: 1.0000 - val_loss: 0.6627 - val_accuracy: 0.8000\n",
            "Epoch 59/100\n",
            "10/10 [==============================] - 0s 43ms/step - loss: 0.0038 - accuracy: 1.0000 - val_loss: 0.6833 - val_accuracy: 0.8000\n",
            "Epoch 60/100\n",
            "10/10 [==============================] - 0s 43ms/step - loss: 0.0037 - accuracy: 1.0000 - val_loss: 0.6792 - val_accuracy: 0.8000\n",
            "Epoch 61/100\n",
            "10/10 [==============================] - 0s 43ms/step - loss: 0.0037 - accuracy: 1.0000 - val_loss: 0.6783 - val_accuracy: 0.8000\n",
            "Epoch 62/100\n",
            "10/10 [==============================] - 0s 43ms/step - loss: 0.0035 - accuracy: 1.0000 - val_loss: 0.6809 - val_accuracy: 0.8000\n",
            "Epoch 63/100\n",
            "10/10 [==============================] - 0s 43ms/step - loss: 0.0034 - accuracy: 1.0000 - val_loss: 0.6857 - val_accuracy: 0.8000\n",
            "Epoch 64/100\n",
            "10/10 [==============================] - 0s 43ms/step - loss: 0.0035 - accuracy: 1.0000 - val_loss: 0.6791 - val_accuracy: 0.8000\n",
            "Epoch 65/100\n",
            "10/10 [==============================] - 0s 43ms/step - loss: 0.0034 - accuracy: 1.0000 - val_loss: 0.6751 - val_accuracy: 0.8000\n",
            "Epoch 66/100\n",
            "10/10 [==============================] - 0s 43ms/step - loss: 0.0033 - accuracy: 1.0000 - val_loss: 0.6681 - val_accuracy: 0.8000\n",
            "Epoch 67/100\n",
            "10/10 [==============================] - 0s 43ms/step - loss: 0.0033 - accuracy: 1.0000 - val_loss: 0.6745 - val_accuracy: 0.7800\n",
            "Epoch 68/100\n",
            "10/10 [==============================] - 0s 43ms/step - loss: 0.0032 - accuracy: 1.0000 - val_loss: 0.6869 - val_accuracy: 0.8000\n",
            "Epoch 69/100\n",
            "10/10 [==============================] - 0s 43ms/step - loss: 0.0031 - accuracy: 1.0000 - val_loss: 0.6806 - val_accuracy: 0.8000\n",
            "Epoch 70/100\n",
            "10/10 [==============================] - 0s 43ms/step - loss: 0.0031 - accuracy: 1.0000 - val_loss: 0.6750 - val_accuracy: 0.8000\n",
            "Epoch 71/100\n",
            "10/10 [==============================] - 0s 43ms/step - loss: 0.0031 - accuracy: 1.0000 - val_loss: 0.6790 - val_accuracy: 0.8000\n",
            "Epoch 72/100\n",
            "10/10 [==============================] - 0s 43ms/step - loss: 0.0030 - accuracy: 1.0000 - val_loss: 0.6680 - val_accuracy: 0.8000\n",
            "Epoch 73/100\n",
            "10/10 [==============================] - 0s 42ms/step - loss: 0.0030 - accuracy: 1.0000 - val_loss: 0.6707 - val_accuracy: 0.8000\n",
            "Epoch 74/100\n",
            "10/10 [==============================] - 0s 43ms/step - loss: 0.0029 - accuracy: 1.0000 - val_loss: 0.6767 - val_accuracy: 0.8000\n",
            "Epoch 75/100\n",
            "10/10 [==============================] - 0s 43ms/step - loss: 0.0029 - accuracy: 1.0000 - val_loss: 0.6843 - val_accuracy: 0.8000\n",
            "Epoch 76/100\n",
            "10/10 [==============================] - 0s 43ms/step - loss: 0.0029 - accuracy: 1.0000 - val_loss: 0.6900 - val_accuracy: 0.8000\n",
            "Epoch 77/100\n",
            "10/10 [==============================] - 0s 43ms/step - loss: 0.0028 - accuracy: 1.0000 - val_loss: 0.6923 - val_accuracy: 0.8000\n",
            "Epoch 78/100\n",
            "10/10 [==============================] - 0s 42ms/step - loss: 0.0028 - accuracy: 1.0000 - val_loss: 0.6788 - val_accuracy: 0.8000\n",
            "Epoch 79/100\n",
            "10/10 [==============================] - 0s 43ms/step - loss: 0.0027 - accuracy: 1.0000 - val_loss: 0.6714 - val_accuracy: 0.8000\n",
            "Epoch 80/100\n",
            "10/10 [==============================] - 0s 44ms/step - loss: 0.0027 - accuracy: 1.0000 - val_loss: 0.6780 - val_accuracy: 0.8000\n",
            "Epoch 81/100\n",
            "10/10 [==============================] - 0s 43ms/step - loss: 0.0026 - accuracy: 1.0000 - val_loss: 0.6867 - val_accuracy: 0.8000\n",
            "Epoch 82/100\n",
            "10/10 [==============================] - 0s 44ms/step - loss: 0.0026 - accuracy: 1.0000 - val_loss: 0.6769 - val_accuracy: 0.8000\n",
            "Epoch 83/100\n",
            "10/10 [==============================] - 0s 43ms/step - loss: 0.0026 - accuracy: 1.0000 - val_loss: 0.6532 - val_accuracy: 0.8000\n",
            "Epoch 84/100\n",
            "10/10 [==============================] - 0s 48ms/step - loss: 0.0026 - accuracy: 1.0000 - val_loss: 0.6697 - val_accuracy: 0.8000\n",
            "Epoch 85/100\n",
            "10/10 [==============================] - 0s 43ms/step - loss: 0.0025 - accuracy: 1.0000 - val_loss: 0.6938 - val_accuracy: 0.8000\n",
            "Epoch 86/100\n",
            "10/10 [==============================] - 0s 43ms/step - loss: 0.0025 - accuracy: 1.0000 - val_loss: 0.6997 - val_accuracy: 0.8000\n",
            "Epoch 87/100\n",
            "10/10 [==============================] - 0s 43ms/step - loss: 0.0024 - accuracy: 1.0000 - val_loss: 0.6982 - val_accuracy: 0.8000\n",
            "Epoch 88/100\n",
            "10/10 [==============================] - 0s 43ms/step - loss: 0.0024 - accuracy: 1.0000 - val_loss: 0.6881 - val_accuracy: 0.8000\n",
            "Epoch 89/100\n",
            "10/10 [==============================] - 0s 43ms/step - loss: 0.0024 - accuracy: 1.0000 - val_loss: 0.6874 - val_accuracy: 0.8000\n",
            "Epoch 90/100\n",
            "10/10 [==============================] - 0s 42ms/step - loss: 0.0023 - accuracy: 1.0000 - val_loss: 0.6886 - val_accuracy: 0.8000\n",
            "Epoch 91/100\n",
            "10/10 [==============================] - 0s 43ms/step - loss: 0.0023 - accuracy: 1.0000 - val_loss: 0.6933 - val_accuracy: 0.8000\n",
            "Epoch 92/100\n",
            "10/10 [==============================] - 0s 43ms/step - loss: 0.0023 - accuracy: 1.0000 - val_loss: 0.6969 - val_accuracy: 0.8000\n",
            "Epoch 93/100\n",
            "10/10 [==============================] - 0s 43ms/step - loss: 0.0023 - accuracy: 1.0000 - val_loss: 0.6918 - val_accuracy: 0.8000\n",
            "Epoch 94/100\n",
            "10/10 [==============================] - 0s 43ms/step - loss: 0.0022 - accuracy: 1.0000 - val_loss: 0.7038 - val_accuracy: 0.8000\n",
            "Epoch 95/100\n",
            "10/10 [==============================] - 0s 43ms/step - loss: 0.0022 - accuracy: 1.0000 - val_loss: 0.6980 - val_accuracy: 0.8000\n",
            "Epoch 96/100\n",
            "10/10 [==============================] - 0s 44ms/step - loss: 0.0022 - accuracy: 1.0000 - val_loss: 0.6740 - val_accuracy: 0.7800\n",
            "Epoch 97/100\n",
            "10/10 [==============================] - 0s 44ms/step - loss: 0.0022 - accuracy: 1.0000 - val_loss: 0.6820 - val_accuracy: 0.7800\n",
            "Epoch 98/100\n",
            "10/10 [==============================] - 0s 45ms/step - loss: 0.0021 - accuracy: 1.0000 - val_loss: 0.6920 - val_accuracy: 0.8000\n",
            "Epoch 99/100\n",
            "10/10 [==============================] - 0s 43ms/step - loss: 0.0021 - accuracy: 1.0000 - val_loss: 0.7028 - val_accuracy: 0.8000\n",
            "Epoch 100/100\n",
            "10/10 [==============================] - 0s 43ms/step - loss: 0.0021 - accuracy: 1.0000 - val_loss: 0.7126 - val_accuracy: 0.8000\n"
          ]
        }
      ]
    },
    {
      "cell_type": "code",
      "source": [
        "# Độ chính xác\n",
        "score = model.evaluate (photos1,labels1,verbose=0)\n",
        "print('Test loss:',score[0])\n",
        "print('Test accuracy:',score[1])"
      ],
      "metadata": {
        "colab": {
          "base_uri": "https://localhost:8080/"
        },
        "id": "K0rOnbYaUlE4",
        "outputId": "90240eb7-3375-483a-d294-e58039dd9675"
      },
      "execution_count": null,
      "outputs": [
        {
          "output_type": "stream",
          "name": "stdout",
          "text": [
            "Test loss: 0.7126470804214478\n",
            "Test accuracy: 0.800000011920929\n"
          ]
        }
      ]
    },
    {
      "cell_type": "code",
      "source": [
        "import matplotlib.pyplot as plt\n",
        "plt.plot(history.history['accuracy'])\n",
        "plt.plot(history.history['val_accuracy'])\n",
        "plt.title('Mode accuracy')\n",
        "plt.ylabel('accuracy')\n",
        "plt.xlabel('epoch')\n",
        "plt.legend(['Train','Validation'],loc = 'upper left')\n",
        "plt.show()"
      ],
      "metadata": {
        "colab": {
          "base_uri": "https://localhost:8080/",
          "height": 295
        },
        "id": "LPvlqWUaUnUp",
        "outputId": "871188e4-a2dd-4969-c884-fb2ad76271c0"
      },
      "execution_count": null,
      "outputs": [
        {
          "output_type": "display_data",
          "data": {
            "text/plain": [
              "<Figure size 432x288 with 1 Axes>"
            ],
            "image/png": "[encoded data removed]"
          },
          "metadata": {
            "needs_background": "light"
          }
        }
      ]
    },
    {
      "cell_type": "code",
      "source": [
        "#Kiểm tra nhận dạng\n",
        "from keras.preprocessing.image import load_img\n",
        "from keras.preprocessing.image import img_to_array\n",
        "from keras.preprocessing.image import array_to_img\n",
        "import matplotlib.pyplot as plt\n",
        "import numpy as np\n",
        "from google.colab.patches import cv2_imshow\n",
        "folder = '/content/drive/MyDrive/AI/Test/'\n",
        "filename = folder+'Oi.26.jpg'\n",
        "img = load_img(filename, target_size=(100,100))\n",
        "img = img_to_array(img)\n",
        "cv2_imshow(img)\n",
        "img = img.reshape(1,100,100,3)\n",
        "img = img.astype('float32')\n",
        "img/=255\n",
        "u= np.argmax(model.predict(img))\n",
        "nhandang = ['Táo','Chuối','Việt Quất','Dưa Lưới','Cherri','Kiwi','Chanh','Cà Chua','Lựu','Ôỉ']\n",
        "print(nhandang[u])"
      ],
      "metadata": {
        "colab": {
          "base_uri": "https://localhost:8080/",
          "height": 134
        },
        "id": "ntXCkT1NUpqn",
        "outputId": "2c72c61e-a0d2-4b20-af46-b3df8138f39b"
      },
      "execution_count": null,
      "outputs": [
        {
          "output_type": "display_data",
          "data": {
            "text/plain": [
              "<PIL.Image.Image image mode=RGB size=100x100 at 0x7FCEC7EFDF90>"
            ],
            "image/png": "[encoded data removed]"
          },
          "metadata": {}
        },
        {
          "output_type": "stream",
          "name": "stdout",
          "text": [
            "Ôỉ\n"
          ]
        }
      ]
    }
  ]
}